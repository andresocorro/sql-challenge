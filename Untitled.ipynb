{
 "cells": [
  {
   "cell_type": "markdown",
   "metadata": {},
   "source": [
    "# Import Dependencies"
   ]
  },
  {
   "cell_type": "code",
   "execution_count": 4,
   "metadata": {},
   "outputs": [],
   "source": [
    "\n",
    "from sqlalchemy import create_engine\n",
    "# from sqlalchemy.ext.declarative import declarative_base\n",
    "# Base = declarative_base()\n",
    "\n",
    "# from sqlalchemy.orm import Session\n",
    "\n",
    "# from sqlalchemy import Column, Integer, String, Float\n",
    "\n",
    "# from config import db_user, dialect\n",
    "\n",
    "import matplotlib.pyplot as plt\n",
    "from config import postgre"
   ]
  },
  {
   "cell_type": "code",
   "execution_count": 5,
   "metadata": {},
   "outputs": [
    {
     "name": "stdout",
     "output_type": "stream",
     "text": [
      "234\n"
     ]
    }
   ],
   "source": [
    "print(postgre)"
   ]
  },
  {
   "cell_type": "code",
   "execution_count": null,
   "metadata": {},
   "outputs": [],
   "source": [
    "# variables to populate the database connection string\n",
    "db_user = 'postgres'\n",
    "db_password = 'postgres'\n",
    "db_host = 'localhost'\n",
    "db_port = 5432\n",
    "\n",
    "# This database must already exist\n",
    "db_name = \"SQLhomework_db\"\n",
    "\n",
    "engine = create_engine(f\"postgres://{db_user}:{db_password}@{db_host}:{db_port}/{db_name}\")\n",
    "\n",
    "connection = engine.connect()"
   ]
  }
 ],
 "metadata": {
  "kernelspec": {
   "display_name": "Python 3",
   "language": "python",
   "name": "python3"
  },
  "language_info": {
   "codemirror_mode": {
    "name": "ipython",
    "version": 3
   },
   "file_extension": ".py",
   "mimetype": "text/x-python",
   "name": "python",
   "nbconvert_exporter": "python",
   "pygments_lexer": "ipython3",
   "version": "3.8.3"
  }
 },
 "nbformat": 4,
 "nbformat_minor": 4
}
